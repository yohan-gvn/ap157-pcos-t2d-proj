{
  "nbformat": 4,
  "nbformat_minor": 0,
  "metadata": {
    "colab": {
      "provenance": [],
      "toc_visible": true
    },
    "kernelspec": {
      "name": "python3",
      "display_name": "Python 3"
    },
    "language_info": {
      "name": "python"
    }
  },
  "cells": [
    {
      "cell_type": "markdown",
      "source": [
        "# Exploring the overlap of Polycystic Ovary Syndrome and Type II Diabetes through clustering of metabolic risk factors\n",
        "\n",
        "Applied Physics 157  | Gavan, Mesias"
      ],
      "metadata": {
        "id": "gqXJOv8TC4d2"
      }
    },
    {
      "cell_type": "code",
      "execution_count": null,
      "metadata": {
        "id": "ewe8KbjhK58t"
      },
      "outputs": [],
      "source": [
        "import numpy as np\n",
        "import pandas as pd\n",
        "import matplotlib.pyplot as plt\n",
        "import seaborn as sns\n",
        "\n",
        "from sklearn.impute import SimpleImputer\n",
        "from sklearn.preprocessing import StandardScaler\n",
        "from sklearn.preprocessing import LabelEncoder\n",
        "from sklearn.decomposition import PCA\n",
        "from sklearn.cluster import KMeans\n",
        "from sklearn.manifold import TSNE\n",
        "from sklearn.model_selection import train_test_split\n",
        "from sklearn.linear_model import LogisticRegression\n",
        "from sklearn.tree import DecisionTreeClassifier\n",
        "from sklearn.ensemble import RandomForestClassifier\n",
        "from xgboost import XGBClassifier\n",
        "from sklearn.metrics import classification_report"
      ]
    },
    {
      "cell_type": "markdown",
      "source": [
        "# Preprocessing"
      ],
      "metadata": {
        "id": "rYnreluW5Nx4"
      }
    },
    {
      "cell_type": "code",
      "source": [
        "# load dataset\n",
        "df = pd.read_csv('metabolic risk assessment.csv')\n",
        "\n",
        "# dropping identifiers\n",
        "df.drop(columns=['Sl. No', 'Patient File No.', 'Unnamed: 0'], inplace=True, errors='ignore')\n",
        "\n",
        "# encode PCOS diagnosis and Diabetes diagnosis\n",
        "df['PCOS'] = df['PCOS'].map({'Yes': 1, 'No': 0})\n",
        "df['Diabetes_Status'] = df['Diabetes_Status'].astype(str).str.strip().str.lower()\n",
        "df['Diabetes'] = df['Diabetes_Status'].map({'positive': 1, 'negative': 0})\n",
        "df.drop(columns=['Diabetes_Status'], inplace=True, errors='ignore')"
      ],
      "metadata": {
        "id": "fMLFBgD15Auq"
      },
      "execution_count": null,
      "outputs": []
    },
    {
      "cell_type": "markdown",
      "source": [
        "## Filtering for Likely Females and Strictly Females"
      ],
      "metadata": {
        "id": "F6eyH_NI5M9Y"
      }
    },
    {
      "cell_type": "markdown",
      "source": [
        "### Likely Females"
      ],
      "metadata": {
        "id": "qKhyHI32XQVg"
      }
    },
    {
      "cell_type": "code",
      "source": [
        "# Likely females defined as PCOS info present (any value) OR Gestational Diabetes is present\n",
        "df['Likely_Female'] = df['PCOS'].notna() | (df['Gestational_Diabetes'] == 1)\n",
        "df_females = df[df['Likely_Female']].copy()"
      ],
      "metadata": {
        "id": "zyFDvpYKXLsK"
      },
      "execution_count": null,
      "outputs": []
    },
    {
      "cell_type": "markdown",
      "source": [
        "## Feature Engineering"
      ],
      "metadata": {
        "id": "EXyuc1yC74Jp"
      }
    },
    {
      "cell_type": "code",
      "source": [
        "def bmi_category(bmi):\n",
        "    if bmi < 18.5:\n",
        "        return 'Underweight'\n",
        "    elif bmi < 25:\n",
        "        return 'Normal'\n",
        "    elif bmi < 30:\n",
        "        return 'Overweight'\n",
        "    else:\n",
        "        return 'Obese'\n",
        "\n",
        "def bp_category(sys, dia):\n",
        "    if sys > 140 or dia > 90:\n",
        "        return 'Hypertension'\n",
        "    elif sys > 120 or dia > 80:\n",
        "        return 'Prehypertension'\n",
        "    else:\n",
        "        return 'Normal'\n",
        "\n",
        "df_females['BMI_cat'] = df_females['BMI'].apply(bmi_category)\n",
        "df_females['Insulin_Resistant'] = (df_females['HOMA_IR'] > 2.5).astype(int)\n",
        "df_females['BP_cat'] = df_females.apply(lambda x: bp_category(x['Blood_Pressure_Systolic'], x['Blood_Pressure_Diastolic']), axis=1)"
      ],
      "metadata": {
        "id": "RHbH9H9G77qt"
      },
      "execution_count": null,
      "outputs": []
    },
    {
      "cell_type": "markdown",
      "source": [
        "# Dimensionality Reduction"
      ],
      "metadata": {
        "id": "4AmyE4RO6DuM"
      }
    },
    {
      "cell_type": "code",
      "source": [
        "# numeric features\n",
        "df_numeric = df_females.select_dtypes(include=[np.number])\n",
        "features_df = df_numeric.drop(columns=['PCOS', 'Diabetes'], errors='ignore')\n",
        "target_pcos = df_numeric['PCOS']\n",
        "target_diabetes = df_numeric['Diabetes']\n",
        "\n",
        "# impute and scale numeric data\n",
        "imputer = SimpleImputer(strategy='mean')\n",
        "features_imputed = imputer.fit_transform(features_df)\n",
        "scaler = StandardScaler()\n",
        "X_scaled = scaler.fit_transform(features_imputed)\n",
        "\n",
        "# Principal Component Analysis\n",
        "pca = PCA(n_components=10)\n",
        "X_pca = pca.fit_transform(X_scaled)"
      ],
      "metadata": {
        "id": "B96Ni9-p5_nQ"
      },
      "execution_count": null,
      "outputs": []
    },
    {
      "cell_type": "markdown",
      "source": [
        "# Clustering"
      ],
      "metadata": {
        "id": "ko3ErLIi6VXg"
      }
    },
    {
      "cell_type": "code",
      "source": [
        "# clustering with 4 clusters using KMeans\n",
        "kmeans = KMeans(n_clusters=4, random_state=42)\n",
        "clusters = kmeans.fit_predict(X_pca)\n",
        "df_females['Cluster'] = clusters\n",
        "\n",
        "# t-SNE\n",
        "tsne = TSNE(n_components=2, random_state=42, perplexity=30)\n",
        "X_tsne = tsne.fit_transform(X_pca)\n",
        "df_females['tSNE-1'] = X_tsne[:, 0]\n",
        "df_females['tSNE-2'] = X_tsne[:, 1]\n",
        "\n",
        "# labelling\n",
        "df_females['Diabetes_Label'] = df_females['Diabetes'].map({0: 'Diabetes: Negative', 1: 'Diabetes: Positive'})\n",
        "df_females['PCOS_Label'] = df_females['PCOS'].map({0: 'PCOS: No', 1: 'PCOS: Yes'})\n",
        "\n",
        "# custom color palette for t-SNE datapoints\n",
        "custom_palette = {\n",
        "    'Diabetes: Negative': '#8dd3c7',  # Teal\n",
        "    'Diabetes: Positive': '#e78ac3'   # Pink\n",
        "}\n",
        "\n",
        "# 2D visualization with t-SNE\n",
        "plt.figure(figsize=(10, 7))\n",
        "sns.scatterplot(\n",
        "    x='tSNE-1', y='tSNE-2',\n",
        "    hue='Diabetes_Label', style='PCOS_Label',\n",
        "    data=df_females, palette=custom_palette, s=40, alpha=0.7\n",
        ")\n",
        "plt.title(\"t-SNE: Diabetes (color) & PCOS (shape) - Likely Females\")\n",
        "plt.legend(title='Diagnosis')\n",
        "plt.show()"
      ],
      "metadata": {
        "id": "obB3i1aw57MX"
      },
      "execution_count": null,
      "outputs": []
    },
    {
      "cell_type": "markdown",
      "source": [
        "# Clustering Analysis (correlation, average rates, co-incidence matrix)"
      ],
      "metadata": {
        "id": "_xmBLpu06hCz"
      }
    },
    {
      "cell_type": "code",
      "source": [
        "# PCOS and Type 2 Diabetes correlation per cluster\n",
        "print(\"=== Correlation between PCOS and Diabetes within Clusters (Likely Females) ===\")\n",
        "for cluster_id, group in df_females.groupby('Cluster'):\n",
        "    if group['PCOS'].nunique() > 1 and group['Diabetes'].nunique() > 1:\n",
        "        corr = group[['PCOS', 'Diabetes']].corr().iloc[0, 1]\n",
        "        print(f\"Cluster {cluster_id}: {corr:.2f}\")\n",
        "    else:\n",
        "        print(f\"Cluster {cluster_id}: Not computable\")\n",
        "\n",
        "# Co-incidence matrix\n",
        "co_matrix = pd.crosstab(df_females['Cluster'], [df_females['PCOS'], df_females['Diabetes']],\n",
        "                        rownames=['Cluster'], colnames=['PCOS', 'Diabetes'])\n",
        "print(\"\\n=== PCOS-Diabetes Co-incidence Matrix by Cluster (Likely Females) ===\")\n",
        "print(co_matrix)\n",
        "\n",
        "# Average rates per cluster\n",
        "cluster_summary = df_females.groupby('Cluster')[['PCOS', 'Diabetes']].mean()\n",
        "print(\"=== Cluster-wise Average Rates (Likely Females) ===\")\n",
        "print(cluster_summary)"
      ],
      "metadata": {
        "id": "SqH0VDNu6hhy"
      },
      "execution_count": null,
      "outputs": []
    },
    {
      "cell_type": "markdown",
      "source": [
        "# Classification"
      ],
      "metadata": {
        "id": "Jx_6xLJk8gu_"
      }
    },
    {
      "cell_type": "code",
      "source": [
        "# 80:20 train/test split\n",
        "X_train, X_test, y_train, y_test = train_test_split(X_scaled, target_diabetes, test_size=0.2, random_state=42)\n",
        "\n",
        "# Logistic Regression\n",
        "lr = LogisticRegression(max_iter=1000)\n",
        "lr.fit(X_train, y_train)\n",
        "lr_preds = lr.predict(X_test)\n",
        "\n",
        "# Random Forest\n",
        "rf = RandomForestClassifier(random_state=42)\n",
        "rf.fit(X_train, y_train)\n",
        "rf_preds = rf.predict(X_test)\n",
        "\n",
        "# XGBoost\n",
        "xgb = XGBClassifier(use_label_encoder=False, eval_metric='mlogloss', random_state=42)\n",
        "xgb.fit(X_train, y_train)\n",
        "xgb_preds = xgb.predict(X_test)\n",
        "\n",
        "# classification reports for each model\n",
        "report_lr = classification_report(y_test, lr_preds, output_dict=True)\n",
        "report_rf = classification_report(y_test, rf_preds, output_dict=True)\n",
        "report_xgb = classification_report(y_test, xgb_preds, output_dict=True)"
      ],
      "metadata": {
        "id": "bJsPyH7v99ew"
      },
      "execution_count": null,
      "outputs": []
    },
    {
      "cell_type": "markdown",
      "source": [
        "# Bonus: for Strictly Females"
      ],
      "metadata": {
        "id": "6P5U9a7JXMRy"
      }
    },
    {
      "cell_type": "code",
      "source": [
        "# Strictly female defined as PCOS = 1 OR Gestational Diabetes = 1\n",
        "strict_females = df[(df['PCOS'] == 1) | (df['Gestational_Diabetes'] == 1)].copy()\n",
        "\n",
        "# numeric features\n",
        "df_numeric = strict_females.select_dtypes(include=[np.number])\n",
        "features_df = df_numeric.drop(columns=['PCOS', 'Diabetes'], errors='ignore')\n",
        "target_pcos = df_numeric['PCOS']\n",
        "target_diabetes = df_numeric['Diabetes']\n",
        "\n",
        "# impute and scale numeric data\n",
        "imputer = SimpleImputer(strategy='mean')\n",
        "features_imputed = imputer.fit_transform(features_df)\n",
        "scaler = StandardScaler()\n",
        "X_scaled = scaler.fit_transform(features_imputed)\n",
        "\n",
        "# DIMENSIONALITY REDUCTION\n",
        "# Principal Component Analysis\n",
        "pca = PCA(n_components=10)\n",
        "X_pca = pca.fit_transform(X_scaled)\n",
        "\n",
        "# clustering with 4 clusters using KMeans\n",
        "kmeans = KMeans(n_clusters=4, random_state=42)\n",
        "clusters = kmeans.fit_predict(X_pca)\n",
        "strict_females['Cluster'] = clusters\n",
        "\n",
        "# t-SNE\n",
        "tsne = TSNE(n_components=2, random_state=42, perplexity=30)\n",
        "X_tsne = tsne.fit_transform(X_pca)\n",
        "strict_females['tSNE-1'] = X_tsne[:, 0]\n",
        "strict_females['tSNE-2'] = X_tsne[:, 1]\n",
        "\n",
        "# t-SNE labels\n",
        "strict_females['Diabetes_Label'] = strict_females['Diabetes'].map({0: 'Diabetes: Negative', 1: 'Diabetes: Positive'})\n",
        "strict_females['PCOS_Label'] = strict_females['PCOS'].map({0: 'PCOS: No', 1: 'PCOS: Yes'})\n",
        "\n",
        "# cluster-wise average rates\n",
        "cluster_summary = strict_females.groupby('Cluster')[['PCOS', 'Diabetes']].mean()\n",
        "\n",
        "# co-incidence matrix\n",
        "co_matrix = pd.crosstab(strict_females['Cluster'], [strict_females['PCOS'], strict_females['Diabetes']],\n",
        "                        rownames=['Cluster'], colnames=['PCOS', 'Diabetes'])\n",
        "\n",
        "# PCOS and Type 2 Diabetes diagnoses correlation within clusters\n",
        "correlations = {}\n",
        "for cluster_id, group in strict_females.groupby('Cluster'):\n",
        "    if group['PCOS'].nunique() > 1 and group['Diabetes'].nunique() > 1:\n",
        "        correlations[cluster_id] = round(group[['PCOS', 'Diabetes']].corr().iloc[0, 1], 2)\n",
        "    else:\n",
        "        correlations[cluster_id] = 'Not computable'\n",
        "\n",
        "# results for clustering & classification analysis\n",
        "{\n",
        "    \"num_strict_entries\": len(strict_females),\n",
        "    \"classification_reports\": {\n",
        "        \"Logistic Regression\": report_lr,\n",
        "        \"Random Forest\": report_rf,\n",
        "        \"SVM\": report_svm\n",
        "    },\n",
        "    \"cluster_summary\": cluster_summary,\n",
        "    \"co_matrix\": co_matrix,\n",
        "    \"correlations\": correlations\n",
        "}\n",
        "\n",
        "# Classification Models\n",
        "X_train, X_test, y_train, y_test = train_test_split(X_scaled, target_diabetes, test_size=0.2, random_state=42)\n",
        "\n",
        "# Logistic Regression\n",
        "lr = LogisticRegression(max_iter=1000)\n",
        "lr.fit(X_train, y_train)\n",
        "lr_preds = lr.predict(X_test)\n",
        "\n",
        "# Random Forest\n",
        "rf = RandomForestClassifier(random_state=42)\n",
        "rf.fit(X_train, y_train)\n",
        "rf_preds = rf.predict(X_test)\n",
        "\n",
        "# XGBoost Classifier\n",
        "xgb = XGBClassifier(use_label_encoder=False, eval_metric='mlogloss', random_state=42)\n",
        "xgb.fit(X_train, y_train)\n",
        "xgb_preds = xgb.predict(X_test)\n",
        "\n",
        "# classification reports for each model\n",
        "report_lr = classification_report(y_test, lr_preds, output_dict=True)\n",
        "report_rf = classification_report(y_test, rf_preds, output_dict=True)\n",
        "report_xgb = classification_report(y_test, xgb_preds, output_dict=True)"
      ],
      "metadata": {
        "id": "Q2UCo0k8Ug84"
      },
      "execution_count": null,
      "outputs": []
    },
    {
      "cell_type": "markdown",
      "source": [
        "# Bonus: Feature Importance Ranking"
      ],
      "metadata": {
        "id": "cO8r2KKZ_1Z0"
      }
    },
    {
      "cell_type": "markdown",
      "source": [
        "## Feature Importance for PCOS"
      ],
      "metadata": {
        "id": "rxG7MXoGAqQm"
      }
    },
    {
      "cell_type": "code",
      "source": [
        "meta_df = \"metabolic risk assessment.csv\"\n",
        "meta_df_subset = pd.read_csv(meta_df, usecols=selected_features + [\"PCOS\"], low_memory=False)\n",
        "\n",
        "# clean dataframe\n",
        "meta_df_subset.dropna(inplace=True)\n",
        "\n",
        "# separate features from target variable\n",
        "X_subset = meta_df_subset[selected_features]\n",
        "y_subset = meta_df_subset[\"PCOS\"]\n",
        "\n",
        "selected_features = [\n",
        " 'Fasting_Blood_Glucose',\n",
        " 'Postprandial_Blood_Glucose',\n",
        " 'HbA1c',\n",
        " 'Random_Blood_Glucose',\n",
        " 'BMI',\n",
        " 'Waist_Circumference',\n",
        " 'Triglyceride_Levels',\n",
        " 'Blood_Pressure_Systolic',\n",
        " 'Blood_Pressure_Diastolic',\n",
        " 'LDL_Cholesterol',\n",
        " 'HDL_Cholesterol',\n",
        " 'CRP_Levels',\n",
        " 'Insulin_Levels',\n",
        " 'HOMA_IR',\n",
        " 'OGTT',\n",
        " 'Creatinine_Levels',\n",
        " 'eGFR',\n",
        " 'Microalbuminuria',\n",
        " 'Uric_Acid_Levels',\n",
        " 'Fructosamine_Levels',\n",
        " 'ALT',\n",
        " 'AST',\n",
        " 'C_Peptide',\n",
        " 'Proinsulin_Levels',\n",
        " 'Family_History_of_Diabetes',\n",
        " 'Gestational_Diabetes',\n",
        " 'Hypertension',\n",
        " 'Physical_Activity',\n",
        " 'Smoking',\n",
        " 'Alcohol_Consumption',\n",
        " 'Obesity',\n",
        " 'Diet',\n",
        " 'Sleep_Apnea',\n",
        " 'Diabetes_Status'\n",
        "]\n",
        "\n",
        "# Load full dataset with necessary features\n",
        "meta_df = \"metabolic risk assessment.csv\"\n",
        "df = pd.read_csv(meta_df, usecols=selected_features + [\"PCOS\"], low_memory=False)\n",
        "df.dropna(inplace=True)\n",
        "\n",
        "# separate selected features from target variable\n",
        "X_subset = df[selected_features]\n",
        "y_subset = df[\"PCOS\"]\n",
        "\n",
        "# encode target variable\n",
        "le = LabelEncoder()\n",
        "y_subset_encoded = le.fit_transform(y_subset)\n",
        "\n",
        "# encode any categorical features in X_subset\n",
        "categorical_cols_X = X_subset.select_dtypes(include='object').columns\n",
        "for col in categorical_cols_X:\n",
        "    X_subset[col] = le.fit_transform(X_subset[col])\n",
        "\n",
        "# train Random Forest\n",
        "rf_subset = RandomForestClassifier(n_estimators=100, random_state=42, n_jobs=-1)\n",
        "rf_subset.fit(X_subset, y_subset_encoded)\n",
        "\n",
        "# feature importances\n",
        "feature_importance_subset = pd.Series(rf_subset.feature_importances_, index=selected_features).sort_values(ascending=False)\n",
        "\n",
        "# Output top features\n",
        "print(\"Top Features Predicting PCOS in Likely Females:\")\n",
        "print(feature_importance_subset)"
      ],
      "metadata": {
        "id": "JpMjoHpLADsM"
      },
      "execution_count": null,
      "outputs": []
    },
    {
      "cell_type": "code",
      "source": [
        "plt.figure(figsize=(12, 6))\n",
        "sns.barplot(x=feature_importance_subset.values, y=feature_importance_subset.index)\n",
        "plt.xlabel(\"Feature Importance Score\")\n",
        "plt.ylabel(\"Features\")\n",
        "plt.title(\"Feature Importance for 'PCOS' Prediction\")\n",
        "plt.show()"
      ],
      "metadata": {
        "id": "X5nx-fTRALmZ"
      },
      "execution_count": null,
      "outputs": []
    },
    {
      "cell_type": "markdown",
      "source": [
        "## Feature Importance for Type II Diabetes"
      ],
      "metadata": {
        "id": "EP8LhNBbAtUB"
      }
    },
    {
      "cell_type": "code",
      "source": [
        "# Define relevant features for selection\n",
        "selected_features = [\n",
        " 'PCOS',\n",
        " 'Fasting_Blood_Glucose',\n",
        " 'Postprandial_Blood_Glucose',\n",
        " 'HbA1c',\n",
        " 'Random_Blood_Glucose',\n",
        " 'BMI',\n",
        " 'Waist_Circumference',\n",
        " 'Triglyceride_Levels',\n",
        " 'Blood_Pressure_Systolic',\n",
        " 'Blood_Pressure_Diastolic',\n",
        " 'LDL_Cholesterol',\n",
        " 'HDL_Cholesterol',\n",
        " 'CRP_Levels',\n",
        " 'Insulin_Levels',\n",
        " 'HOMA_IR',\n",
        " 'OGTT',\n",
        " 'Creatinine_Levels',\n",
        " 'eGFR',\n",
        " 'Microalbuminuria',\n",
        " 'Uric_Acid_Levels',\n",
        " 'Fructosamine_Levels',\n",
        " 'ALT',\n",
        " 'AST',\n",
        " 'C_Peptide',\n",
        " 'Proinsulin_Levels',\n",
        " 'Family_History_of_Diabetes',\n",
        " 'Gestational_Diabetes',\n",
        " 'Hypertension',\n",
        " 'Physical_Activity',\n",
        " 'Smoking',\n",
        " 'Alcohol_Consumption',\n",
        " 'Obesity',\n",
        " 'Diet',\n",
        " 'Sleep_Apnea',\n",
        "]\n",
        "\n",
        "meta_df = \"metabolic risk assessment.csv\"\n",
        "meta_df_subset = pd.read_csv(meta_df, usecols=selected_features + [\"Diabetes_Status\"], low_memory=False)\n",
        "\n",
        "meta_df_subset.dropna(inplace=True)\n",
        "\n",
        "# separate selected features from target variable\n",
        "X_subset = meta_df_subset[selected_features]\n",
        "y_subset = meta_df_subset[\"Diabetes_Status\"]\n",
        "\n",
        "\n",
        "le = LabelEncoder()\n",
        "y_subset_encoded = le.fit_transform(y_subset)\n",
        "categorical_cols_X = X_subset.select_dtypes(include='object').columns\n",
        "\n",
        "# encode labels to each categorical column in X_subset\n",
        "for col in categorical_cols_X:\n",
        "    X_subset[col] = le.fit_transform(X_subset[col])\n",
        "\n",
        "# train Random Forest model on this subset for feature importance\n",
        "rf_subset = RandomForestClassifier(n_estimators=100, random_state=42, n_jobs=-1)\n",
        "# fit model with the processed feature data and encoded target variable\n",
        "rf_subset.fit(X_subset, y_subset_encoded)\n",
        "\n",
        "\n",
        "feature_importance_subset = pd.Series(rf_subset.feature_importances_, index=selected_features).sort_values(ascending=False)\n",
        "feature_importance_subset"
      ],
      "metadata": {
        "id": "igMZ8egjBDuz"
      },
      "execution_count": null,
      "outputs": []
    },
    {
      "cell_type": "code",
      "source": [
        "plt.figure(figsize=(12, 6))\n",
        "sns.barplot(x=feature_importance_subset.values, y=feature_importance_subset.index)\n",
        "plt.xlabel(\"Feature Importance Score\")\n",
        "plt.ylabel(\"Features\")\n",
        "plt.title(\"Feature Importance for 'Diabetes' Prediction\")\n",
        "plt.show()"
      ],
      "metadata": {
        "id": "2_1v-w5WBC3Y"
      },
      "execution_count": null,
      "outputs": []
    }
  ]
}